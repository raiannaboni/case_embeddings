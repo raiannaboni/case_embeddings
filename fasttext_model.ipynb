{
 "cells": [
  {
   "cell_type": "code",
   "execution_count": null,
   "id": "53c46cf5",
   "metadata": {},
   "outputs": [
    {
     "name": "stdout",
     "output_type": "stream",
     "text": [
      "WARNING:tensorflow:From c:\\Users\\Nucleo Mundial de Ne\\anaconda3\\Lib\\site-packages\\keras\\src\\losses.py:2976: The name tf.losses.sparse_softmax_cross_entropy is deprecated. Please use tf.compat.v1.losses.sparse_softmax_cross_entropy instead.\n",
      "\n"
     ]
    },
    {
     "name": "stderr",
     "output_type": "stream",
     "text": [
      "[nltk_data] Downloading package punkt to C:\\Users\\Nucleo Mundial de\n",
      "[nltk_data]     Ne\\AppData\\Roaming\\nltk_data...\n",
      "[nltk_data]   Package punkt is already up-to-date!\n"
     ]
    },
    {
     "data": {
      "text/plain": [
       "True"
      ]
     },
     "execution_count": 1,
     "metadata": {},
     "output_type": "execute_result"
    }
   ],
   "source": [
    "# Imports\n",
    "import pandas as pd\n",
    "import numpy as np\n",
    "import re\n",
    "import unicodedata\n",
    "import nltk\n",
    "from nltk.tokenize import word_tokenize\n",
    "from gensim.models import FastText\n",
    "from sklearn.metrics.pairwise import cosine_similarity\n",
    "from fuzzywuzzy import fuzz\n",
    "from sklearn.model_selection import train_test_split\n",
    "from tqdm.notebook import tqdm\n",
    "\n",
    "nltk.download('punkt')"
   ]
  },
  {
   "cell_type": "markdown",
   "id": "708e5296",
   "metadata": {},
   "source": [
    "# Carregando dados da Receita Federal"
   ]
  },
  {
   "cell_type": "code",
   "execution_count": 17,
   "id": "1773a8e5",
   "metadata": {},
   "outputs": [],
   "source": [
    "\n",
    "df = pd.read_parquet('dados/train.parquet')\n",
    "df = df[['user_input', 'uf', 'razaosocial', 'nome_fantasia']].reset_index(drop=True)\n"
   ]
  },
  {
   "cell_type": "markdown",
   "id": "a8368c61",
   "metadata": {},
   "source": [
    "# Pré-processamento dos textos\n"
   ]
  },
  {
   "cell_type": "code",
   "execution_count": 18,
   "id": "8f8419ca",
   "metadata": {},
   "outputs": [],
   "source": [
    "\n",
    "def clean_text(text):\n",
    "    text = str(text).lower().strip()\n",
    "    text = unicodedata.normalize('NFKD', text).encode('ascii', 'ignore').decode('utf-8')\n",
    "    \n",
    "    # Remove caracteres especiais\n",
    "    text = re.sub(r'[^a-z0-9\\s&.-]', ' ', text)\n",
    "    \n",
    "    # Trata números como tokens especiais\n",
    "    text = re.sub(r'(\\d+)', r' \\1 ', text)\n",
    "    \n",
    "    # Remove stopwords específicas do domínio\n",
    "    stopwords = ['ltda', 'me', 'epp', 'sa', 's/a', 'limitada', 'eireli']\n",
    "    words = text.split()\n",
    "    words = [w for w in words if w not in stopwords]\n",
    "    \n",
    "    # Normaliza espaços\n",
    "    return ' '.join(words)"
   ]
  },
  {
   "cell_type": "code",
   "execution_count": 19,
   "id": "5ab6b666",
   "metadata": {},
   "outputs": [],
   "source": [
    "# Criação do campo de texto e do target\n",
    "df['target_empresa'] = (df.razaosocial.fillna('') + ' ' + df.nome_fantasia.fillna('')).apply(clean_text)"
   ]
  },
  {
   "cell_type": "code",
   "execution_count": 20,
   "metadata": {},
   "outputs": [],
   "source": [
    "# Separação treino/teste\n",
    "df_train, df_test = train_test_split(df, \n",
    "                                     test_size=0.2, \n",
    "                                     random_state=42)\n"
   ]
  },
  {
   "cell_type": "markdown",
   "id": "af43927d",
   "metadata": {},
   "source": [
    "# FastText training"
   ]
  },
  {
   "cell_type": "code",
   "execution_count": null,
   "id": "adb10670",
   "metadata": {},
   "outputs": [
    {
     "name": "stdout",
     "output_type": "stream",
     "text": [
      "Gerando embeddings FastText...\n"
     ]
    }
   ],
   "source": [
    "# Função para preparar o texto para busca, priorizando nome fantasia (dei mais peso ao nome fantasia por ser mais fácil o cliente usar os termos deste)\n",
    "def prepare_search_text(row):\n",
    "    razao = clean_text(str(row.razaosocial)) if pd.notna(row.razaosocial) else ''\n",
    "    fantasia = clean_text(str(row.nome_fantasia)) if pd.notna(row.nome_fantasia) else ''\n",
    "    \n",
    "    # Se tiver ambos, combina dando mais peso ao nome fantasia\n",
    "    if razao and fantasia:\n",
    "        # Repete o nome fantasia para dar mais peso\n",
    "        return f'{fantasia} {fantasia} {razao}'\n",
    "    # Se tiver só um deles, usa o que tiver\n",
    "    return fantasia or razao\n",
    "\n",
    "# Aplica o prepare_search_text em todos os DataFrames\n",
    "df_train['search_text'] = df_train.apply(prepare_search_text, axis=1)\n",
    "df_test['search_text'] = df_test.apply(prepare_search_text, axis=1)\n",
    "\n",
    "# Tokenização dos nomes de empresas\n",
    "def tokenize_business(text):\n",
    "    text = clean_text(text)\n",
    "    \n",
    "    tokens = []\n",
    "    for word in text.split():\n",
    "        # Se tem número, mantém junto\n",
    "        if any(c.isdigit() for c in word):\n",
    "            tokens.append(word)\n",
    "        else:\n",
    "            # Tokeniza mas mantém palavras pequenas (possíveis iniciais)\n",
    "            if len(word) <= 2:\n",
    "                tokens.append(word)\n",
    "            else:\n",
    "                tokens.extend(word_tokenize(word))\n",
    "    return tokens\n",
    "\n",
    "# FastText com parâmetros otimizados para nomes de empresas\n",
    "corpus_ft = [tokenize_business(text) for text in df_train.search_text]\n",
    "\n",
    "fasttext_model = FastText(\n",
    "    sentences=corpus_ft,\n",
    "    vector_size=300,\n",
    "    window=5, \n",
    "    min_count=1,\n",
    "    sg=1,\n",
    "    negative=15,  \n",
    "    epochs=50,\n",
    "    min_n=2,\n",
    "    max_n=6\n",
    "    )\n",
    "\n",
    "\n",
    "\n",
    "def ft_embedding(text):\n",
    "    \"\"\"Função para gerar embeddings com pesos adaptativos\"\"\"\n",
    "    tokens = tokenize_business(text)\n",
    "    vectors = []\n",
    "    weights = []\n",
    "    \n",
    "    for i, token in enumerate(tokens):\n",
    "        if token in fasttext_model.wv:\n",
    "            vec = fasttext_model.wv[token]\n",
    "            # Pesos adaptativos baseados nas características do token\n",
    "            weight = 1.0\n",
    "            \n",
    "            # Aumentar o peso das primeiras palavras\n",
    "            if i < 2:\n",
    "                weight *= 1.2 \n",
    "\n",
    "            # Diminuir peso dos tokens curtos\n",
    "            if len(token) <= 2:\n",
    "                weight *= 0.6  \n",
    "                \n",
    "            vectors.append(vec)\n",
    "            weights.append(weight)\n",
    "    \n",
    "    if vectors:\n",
    "        weights = np.array(weights).reshape(-1, 1) \n",
    "        weighted_vectors = np.array(vectors) * weights\n",
    "\n",
    "        # Normaliza o embedding final\n",
    "        emb = np.sum(weighted_vectors, axis=0) / np.sum(weights)\n",
    "        return emb / np.linalg.norm(emb)\n",
    "    \n",
    "    return np.zeros(fasttext_model.vector_size)\n",
    "\n",
    "# Aplicando os embeddings\n",
    "print(\"Gerando embeddings FastText...\")\n",
    "df_train['ft_emb'] = df_train.search_text.apply(ft_embedding)\n",
    "df_test['ft_emb'] = df_test.search_text.apply(ft_embedding)\n"
   ]
  },
  {
   "cell_type": "markdown",
   "id": "d3de0925",
   "metadata": {},
   "source": [
    "## Avaliar modelo"
   ]
  },
  {
   "cell_type": "code",
   "execution_count": null,
   "id": "92f1f077",
   "metadata": {},
   "outputs": [],
   "source": [
    "def get_topk(user_input, uf=None, k=5, base_busca=None):\n",
    "    texto = tokenize_business(user_input)\n",
    "    data = base_busca.copy()\n",
    "    \n",
    "    if uf:\n",
    "        data = data[data.uf == uf].reset_index(drop=True)    # verificar o valor de data\n",
    "    \n",
    "\n",
    "    emb = ft_embedding(texto)\n",
    "    similaridade = cosine_similarity([emb], list(data.ft_emb.values))[0]\n",
    "   \n",
    "    top_indices = similaridade.argsort()[::-1][:k]\n",
    "\n",
    "    return pd.DataFrame(data.iloc[top_indices])\n"
   ]
  },
  {
   "cell_type": "code",
   "execution_count": null,
   "id": "8c08756d",
   "metadata": {},
   "outputs": [],
   "source": [
    "def avaliar_modelo(df_teste, base_busca, batch_size=32):\n",
    "    total = len(df_teste)\n",
    "    top1 = 0\n",
    "    top5 = 0\n",
    "    \n",
    "    # Pré-processamento dos alvos\n",
    "    alvos = df_teste.search_text.apply(tokenize_business).values\n",
    "    \n",
    "    with tqdm(total=total, desc=f'Avaliando modelo') as pbar:\n",
    "        for i in range(0, total, batch_size):\n",
    "            batch = df_teste.iloc[i:i+batch_size]\n",
    "            \n",
    "            for j, row in enumerate(batch.itertuples()):\n",
    "                entrada = row.user_input\n",
    "                uf = row.uf if hasattr(row, 'uf') else None\n",
    "                alvo = alvos[i+j]\n",
    "                \n",
    "                # Obtém os top-k resultados\n",
    "                resultados = get_topk(entrada, uf, k=5, base_busca=base_busca)\n",
    "                pred_empresas = resultados.search_text.apply(tokenize_business).values\n",
    "                                \n",
    "                # Verifica Top-1 (match exato ou alta similaridade para primeira predição)\n",
    "                if fuzz.ratio(alvo, pred_empresas[0]) > 80:  \n",
    "                    top1 += 1\n",
    "                \n",
    "                # Verifica Top-5 (match aproximado em qualquer posição)\n",
    "                for pred in pred_empresas:\n",
    "                    if fuzz.ratio(alvo, pred) > 80:\n",
    "                        top5 += 1\n",
    "                        break\n",
    "                \n",
    "                pbar.update(1)\n",
    "    \n",
    "    print(f'\\nModelo: FastText')\n",
    "    print(f'Top-1: {top1/total:.2%} | Top-5: {top5/total:.2%}')\n",
    "    "
   ]
  },
  {
   "cell_type": "code",
   "execution_count": 8,
   "id": "03de7f79",
   "metadata": {},
   "outputs": [],
   "source": [
    "# Testando um um df menor\n",
    "df_test_test = df_test[1000:5000]"
   ]
  },
  {
   "cell_type": "code",
   "execution_count": 23,
   "id": "437a8d05",
   "metadata": {},
   "outputs": [
    {
     "data": {
      "application/vnd.jupyter.widget-view+json": {
       "model_id": "34c942ae06fd42978586553f1d6312df",
       "version_major": 2,
       "version_minor": 0
      },
      "text/plain": [
       "Avaliando modelo:   0%|          | 0/4000 [00:00<?, ?it/s]"
      ]
     },
     "metadata": {},
     "output_type": "display_data"
    },
    {
     "name": "stdout",
     "output_type": "stream",
     "text": [
      "\n",
      "Modelo: FastText\n",
      "Top-1: 80.40% | Top-5: 80.53%\n"
     ]
    }
   ],
   "source": [
    "avaliar_modelo(df_test_test, base_busca=df_train)"
   ]
  },
  {
   "cell_type": "code",
   "execution_count": 40,
   "id": "bf232ba4",
   "metadata": {},
   "outputs": [
    {
     "data": {
      "text/html": [
       "<div>\n",
       "<style scoped>\n",
       "    .dataframe tbody tr th:only-of-type {\n",
       "        vertical-align: middle;\n",
       "    }\n",
       "\n",
       "    .dataframe tbody tr th {\n",
       "        vertical-align: top;\n",
       "    }\n",
       "\n",
       "    .dataframe thead th {\n",
       "        text-align: right;\n",
       "    }\n",
       "</style>\n",
       "<table border=\"1\" class=\"dataframe\">\n",
       "  <thead>\n",
       "    <tr style=\"text-align: right;\">\n",
       "      <th></th>\n",
       "      <th>user_input</th>\n",
       "      <th>uf</th>\n",
       "      <th>razaosocial</th>\n",
       "      <th>nome_fantasia</th>\n",
       "      <th>target_empresa</th>\n",
       "      <th>search_text</th>\n",
       "      <th>ft_emb</th>\n",
       "    </tr>\n",
       "  </thead>\n",
       "  <tbody>\n",
       "    <tr>\n",
       "      <th>11942</th>\n",
       "      <td>BRASPRES URJENTES</td>\n",
       "      <td>SP</td>\n",
       "      <td>BRASPRESS TRANSPORTES URGENTES LTDA</td>\n",
       "      <td>BTU - BRASPRESS - SOD</td>\n",
       "      <td>braspress transportes urgentes btu - braspress...</td>\n",
       "      <td>btu - braspress - sod btu - braspress - sod br...</td>\n",
       "      <td>[0.0800840503876413, 0.10255214635629242, 0.01...</td>\n",
       "    </tr>\n",
       "    <tr>\n",
       "      <th>12112</th>\n",
       "      <td>BRAS TRANSPORTES URJENTES</td>\n",
       "      <td>SP</td>\n",
       "      <td>BRASPRESS TRANSPORTES URGENTES LTDA</td>\n",
       "      <td>BTU - BRASPRESS - SOD</td>\n",
       "      <td>braspress transportes urgentes btu - braspress...</td>\n",
       "      <td>btu - braspress - sod btu - braspress - sod br...</td>\n",
       "      <td>[0.0800840503876413, 0.10255214635629242, 0.01...</td>\n",
       "    </tr>\n",
       "    <tr>\n",
       "      <th>7839</th>\n",
       "      <td>BRASPRESS URGENTES</td>\n",
       "      <td>SP</td>\n",
       "      <td>BRASPRESS TRANSPORTES URGENTES LTDA</td>\n",
       "      <td>BTU - BRASPRESS - SOD</td>\n",
       "      <td>braspress transportes urgentes btu - braspress...</td>\n",
       "      <td>btu - braspress - sod btu - braspress - sod br...</td>\n",
       "      <td>[0.0800840503876413, 0.10255214635629242, 0.01...</td>\n",
       "    </tr>\n",
       "    <tr>\n",
       "      <th>9767</th>\n",
       "      <td>BRAS TRANSPORTES URGENTES</td>\n",
       "      <td>SP</td>\n",
       "      <td>BRASPRESS TRANSPORTES URGENTES LTDA</td>\n",
       "      <td>BTU - BRASPRESS - SOD</td>\n",
       "      <td>braspress transportes urgentes btu - braspress...</td>\n",
       "      <td>btu - braspress - sod btu - braspress - sod br...</td>\n",
       "      <td>[0.0800840503876413, 0.10255214635629242, 0.01...</td>\n",
       "    </tr>\n",
       "    <tr>\n",
       "      <th>5612</th>\n",
       "      <td>BRASPRESS TRANSPORTE</td>\n",
       "      <td>SP</td>\n",
       "      <td>BRASPRESS TRANSPORTES URGENTES LTDA</td>\n",
       "      <td>BTU - BRASPRESS - SSZ</td>\n",
       "      <td>braspress transportes urgentes btu - braspress...</td>\n",
       "      <td>btu - braspress - ssz btu - braspress - ssz br...</td>\n",
       "      <td>[0.08116526526290342, 0.09618940249874869, 0.0...</td>\n",
       "    </tr>\n",
       "  </tbody>\n",
       "</table>\n",
       "</div>"
      ],
      "text/plain": [
       "                      user_input  uf                          razaosocial  \\\n",
       "11942          BRASPRES URJENTES  SP  BRASPRESS TRANSPORTES URGENTES LTDA   \n",
       "12112  BRAS TRANSPORTES URJENTES  SP  BRASPRESS TRANSPORTES URGENTES LTDA   \n",
       "7839          BRASPRESS URGENTES  SP  BRASPRESS TRANSPORTES URGENTES LTDA   \n",
       "9767   BRAS TRANSPORTES URGENTES  SP  BRASPRESS TRANSPORTES URGENTES LTDA   \n",
       "5612        BRASPRESS TRANSPORTE  SP  BRASPRESS TRANSPORTES URGENTES LTDA   \n",
       "\n",
       "               nome_fantasia  \\\n",
       "11942  BTU - BRASPRESS - SOD   \n",
       "12112  BTU - BRASPRESS - SOD   \n",
       "7839   BTU - BRASPRESS - SOD   \n",
       "9767   BTU - BRASPRESS - SOD   \n",
       "5612   BTU - BRASPRESS - SSZ   \n",
       "\n",
       "                                          target_empresa  \\\n",
       "11942  braspress transportes urgentes btu - braspress...   \n",
       "12112  braspress transportes urgentes btu - braspress...   \n",
       "7839   braspress transportes urgentes btu - braspress...   \n",
       "9767   braspress transportes urgentes btu - braspress...   \n",
       "5612   braspress transportes urgentes btu - braspress...   \n",
       "\n",
       "                                             search_text  \\\n",
       "11942  btu - braspress - sod btu - braspress - sod br...   \n",
       "12112  btu - braspress - sod btu - braspress - sod br...   \n",
       "7839   btu - braspress - sod btu - braspress - sod br...   \n",
       "9767   btu - braspress - sod btu - braspress - sod br...   \n",
       "5612   btu - braspress - ssz btu - braspress - ssz br...   \n",
       "\n",
       "                                                  ft_emb  \n",
       "11942  [0.0800840503876413, 0.10255214635629242, 0.01...  \n",
       "12112  [0.0800840503876413, 0.10255214635629242, 0.01...  \n",
       "7839   [0.0800840503876413, 0.10255214635629242, 0.01...  \n",
       "9767   [0.0800840503876413, 0.10255214635629242, 0.01...  \n",
       "5612   [0.08116526526290342, 0.09618940249874869, 0.0...  "
      ]
     },
     "execution_count": 40,
     "metadata": {},
     "output_type": "execute_result"
    }
   ],
   "source": [
    "get_topk('braspres', uf='SP', base_busca=df_test)"
   ]
  },
  {
   "cell_type": "code",
   "execution_count": 39,
   "id": "55c0bbf1",
   "metadata": {},
   "outputs": [
    {
     "data": {
      "text/html": [
       "<div>\n",
       "<style scoped>\n",
       "    .dataframe tbody tr th:only-of-type {\n",
       "        vertical-align: middle;\n",
       "    }\n",
       "\n",
       "    .dataframe tbody tr th {\n",
       "        vertical-align: top;\n",
       "    }\n",
       "\n",
       "    .dataframe thead th {\n",
       "        text-align: right;\n",
       "    }\n",
       "</style>\n",
       "<table border=\"1\" class=\"dataframe\">\n",
       "  <thead>\n",
       "    <tr style=\"text-align: right;\">\n",
       "      <th></th>\n",
       "      <th>user_input</th>\n",
       "      <th>uf</th>\n",
       "      <th>razaosocial</th>\n",
       "      <th>nome_fantasia</th>\n",
       "      <th>target_empresa</th>\n",
       "      <th>search_text</th>\n",
       "      <th>ft_emb</th>\n",
       "    </tr>\n",
       "  </thead>\n",
       "  <tbody>\n",
       "    <tr>\n",
       "      <th>104689</th>\n",
       "      <td>PORMENOS</td>\n",
       "      <td>RS</td>\n",
       "      <td>GRAZZIOTIN S A</td>\n",
       "      <td>PORMENOS</td>\n",
       "      <td>grazziotin s a pormenos</td>\n",
       "      <td>pormenos pormenos grazziotin s a</td>\n",
       "      <td>[0.137596120059232, 0.1535116025933911, 0.0364...</td>\n",
       "    </tr>\n",
       "    <tr>\n",
       "      <th>58995</th>\n",
       "      <td>GRAZZIOTIN PORMENOS</td>\n",
       "      <td>PR</td>\n",
       "      <td>GRAZZIOTIN S A</td>\n",
       "      <td>PORMENOS</td>\n",
       "      <td>grazziotin s a pormenos</td>\n",
       "      <td>pormenos pormenos grazziotin s a</td>\n",
       "      <td>[0.137596120059232, 0.1535116025933911, 0.0364...</td>\n",
       "    </tr>\n",
       "    <tr>\n",
       "      <th>73335</th>\n",
       "      <td>GRAZZIOTIN</td>\n",
       "      <td>RS</td>\n",
       "      <td>GRAZZIOTIN S A</td>\n",
       "      <td>PORMENOS</td>\n",
       "      <td>grazziotin s a pormenos</td>\n",
       "      <td>pormenos pormenos grazziotin s a</td>\n",
       "      <td>[0.137596120059232, 0.1535116025933911, 0.0364...</td>\n",
       "    </tr>\n",
       "    <tr>\n",
       "      <th>116527</th>\n",
       "      <td>GRAZZIOTIN</td>\n",
       "      <td>RS</td>\n",
       "      <td>GRAZZIOTIN S A</td>\n",
       "      <td>PORMENOS</td>\n",
       "      <td>grazziotin s a pormenos</td>\n",
       "      <td>pormenos pormenos grazziotin s a</td>\n",
       "      <td>[0.137596120059232, 0.1535116025933911, 0.0364...</td>\n",
       "    </tr>\n",
       "    <tr>\n",
       "      <th>67487</th>\n",
       "      <td>PORMENOS</td>\n",
       "      <td>SC</td>\n",
       "      <td>GRAZZIOTIN S A</td>\n",
       "      <td>PORMENOS</td>\n",
       "      <td>grazziotin s a pormenos</td>\n",
       "      <td>pormenos pormenos grazziotin s a</td>\n",
       "      <td>[0.137596120059232, 0.1535116025933911, 0.0364...</td>\n",
       "    </tr>\n",
       "  </tbody>\n",
       "</table>\n",
       "</div>"
      ],
      "text/plain": [
       "                 user_input  uf     razaosocial nome_fantasia  \\\n",
       "104689             PORMENOS  RS  GRAZZIOTIN S A      PORMENOS   \n",
       "58995   GRAZZIOTIN PORMENOS  PR  GRAZZIOTIN S A      PORMENOS   \n",
       "73335            GRAZZIOTIN  RS  GRAZZIOTIN S A      PORMENOS   \n",
       "116527           GRAZZIOTIN  RS  GRAZZIOTIN S A      PORMENOS   \n",
       "67487              PORMENOS  SC  GRAZZIOTIN S A      PORMENOS   \n",
       "\n",
       "                 target_empresa                       search_text  \\\n",
       "104689  grazziotin s a pormenos  pormenos pormenos grazziotin s a   \n",
       "58995   grazziotin s a pormenos  pormenos pormenos grazziotin s a   \n",
       "73335   grazziotin s a pormenos  pormenos pormenos grazziotin s a   \n",
       "116527  grazziotin s a pormenos  pormenos pormenos grazziotin s a   \n",
       "67487   grazziotin s a pormenos  pormenos pormenos grazziotin s a   \n",
       "\n",
       "                                                   ft_emb  \n",
       "104689  [0.137596120059232, 0.1535116025933911, 0.0364...  \n",
       "58995   [0.137596120059232, 0.1535116025933911, 0.0364...  \n",
       "73335   [0.137596120059232, 0.1535116025933911, 0.0364...  \n",
       "116527  [0.137596120059232, 0.1535116025933911, 0.0364...  \n",
       "67487   [0.137596120059232, 0.1535116025933911, 0.0364...  "
      ]
     },
     "execution_count": 39,
     "metadata": {},
     "output_type": "execute_result"
    }
   ],
   "source": [
    "get_topk('pormenos', base_busca=df_test)"
   ]
  }
 ],
 "metadata": {
  "kernelspec": {
   "display_name": "base",
   "language": "python",
   "name": "python3"
  },
  "language_info": {
   "codemirror_mode": {
    "name": "ipython",
    "version": 3
   },
   "file_extension": ".py",
   "mimetype": "text/x-python",
   "name": "python",
   "nbconvert_exporter": "python",
   "pygments_lexer": "ipython3",
   "version": "3.11.7"
  }
 },
 "nbformat": 4,
 "nbformat_minor": 5
}
